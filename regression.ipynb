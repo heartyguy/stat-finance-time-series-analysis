{
 "cells": [
  {
   "cell_type": "code",
   "execution_count": 1,
   "metadata": {
    "collapsed": false
   },
   "outputs": [
    {
     "name": "stderr",
     "output_type": "stream",
     "text": [
      "\n",
      "Attaching package: ‘CombMSC’\n",
      "\n",
      "The following object is masked from ‘package:stats’:\n",
      "\n",
      "    BIC\n",
      "\n",
      "\n",
      "Attaching package: ‘zoo’\n",
      "\n",
      "The following objects are masked from ‘package:base’:\n",
      "\n",
      "    as.Date, as.Date.numeric\n",
      "\n"
     ]
    },
    {
     "name": "stdout",
     "output_type": "stream",
     "text": [
      "time series starts 2000-01-03\n",
      "time series ends   2011-12-30\n"
     ]
    }
   ],
   "source": [
    "#install.packages('tseries')\n",
    "#install.packages('CombMSC')\n",
    "library(CombMSC)\n",
    "library(tseries)\n",
    "library(zoo)\n",
    "\n",
    "\n",
    "spy_zoo = get.hist.quote(instrument = \"^GSPC\", \"2000-01-01\", \"2011-12-31\",quote = c(\"AdjClose\"),\n",
    "provider = c(\"yahoo\"), method = NULL, compression = \"d\",\n",
    "retclass = c(\"zoo\"), quiet = FALSE, drop = FALSE)\n",
    "\n",
    "\n",
    "#spy$train =ts(spy$train, frequency=7)\n",
    "\n",
    "test_len = 504\n",
    "if(FALSE){\n",
    "spy = coredata(spy_zoo)\n",
    "spy\n",
    "spy$train = spy[1:(length(spy)-test_len)]\n",
    "spy$test = spy[(length(spy)-test_len + 1):length(spy)]\n",
    "length(spy$train)\n",
    "length(spy$test)\n",
    "\n",
    "plot(spy$train,ylab='price', xlab='day in train')\n",
    "plot(log(spy$train), ylab=\"Log(price)\", xlab=\"day in train\")\n",
    "\n",
    "plot(spy$test,ylab='price', xlab='day in test')\n",
    "plot(log(spy$test), ylab=\"Log(price)\", xlab=\"day in test\")\n",
    "}\n",
    "\n",
    "\n",
    "\n",
    "\n",
    "\n"
   ]
  },
  {
   "cell_type": "code",
   "execution_count": 2,
   "metadata": {
    "collapsed": false
   },
   "outputs": [],
   "source": [
    "#hist(spy$train)\n",
    "#hist(log(spy$train))"
   ]
  },
  {
   "cell_type": "code",
   "execution_count": 3,
   "metadata": {
    "collapsed": false,
    "scrolled": true
   },
   "outputs": [
    {
     "data": {
      "text/html": [
       "<table>\n",
       "<thead><tr><th></th><th scope=col>cpi</th><th scope=col>debt</th><th scope=col>gdp</th><th scope=col>gold</th><th scope=col>labour</th><th scope=col>party</th><th scope=col>election</th><th scope=col>petrol</th><th scope=col>unemploy</th><th scope=col>AdjClose</th></tr></thead>\n",
       "<tbody>\n",
       "\t<tr><th scope=row>2000-01-04</th><td>2      </td><td>5628.7 </td><td>10031  </td><td>282.05 </td><td>142267 </td><td>0      </td><td>1      </td><td>1.312  </td><td>4      </td><td>1399.42</td></tr>\n",
       "\t<tr><th scope=row>2000-01-05</th><td>2      </td><td>5628.7 </td><td>10031  </td><td>282.10 </td><td>142267 </td><td>0      </td><td>1      </td><td>1.312  </td><td>4      </td><td>1402.11</td></tr>\n",
       "\t<tr><th scope=row>2000-01-06</th><td>2      </td><td>5628.7 </td><td>10031  </td><td>280.35 </td><td>142267 </td><td>0      </td><td>1      </td><td>1.312  </td><td>4      </td><td>1403.45</td></tr>\n",
       "\t<tr><th scope=row>2000-01-07</th><td>2      </td><td>5628.7 </td><td>10031  </td><td>282.00 </td><td>142267 </td><td>0      </td><td>1      </td><td>1.312  </td><td>4      </td><td>1441.47</td></tr>\n",
       "\t<tr><th scope=row>2000-01-10</th><td>2      </td><td>5628.7 </td><td>10031  </td><td>281.70 </td><td>142267 </td><td>0      </td><td>1      </td><td>1.304  </td><td>4      </td><td>1457.60</td></tr>\n",
       "\t<tr><th scope=row>2000-01-11</th><td>2      </td><td>5628.7 </td><td>10031  </td><td>281.70 </td><td>142267 </td><td>0      </td><td>1      </td><td>1.304  </td><td>4      </td><td>1438.56</td></tr>\n",
       "</tbody>\n",
       "</table>\n"
      ],
      "text/latex": [
       "\\begin{tabular}{r|llllllllll}\n",
       "  & cpi & debt & gdp & gold & labour & party & election & petrol & unemploy & AdjClose\\\\\n",
       "\\hline\n",
       "\t2000-01-04 & 2       & 5628.7  & 10031   & 282.05  & 142267  & 0       & 1       & 1.312   & 4       & 1399.42\\\\\n",
       "\t2000-01-05 & 2       & 5628.7  & 10031   & 282.10  & 142267  & 0       & 1       & 1.312   & 4       & 1402.11\\\\\n",
       "\t2000-01-06 & 2       & 5628.7  & 10031   & 280.35  & 142267  & 0       & 1       & 1.312   & 4       & 1403.45\\\\\n",
       "\t2000-01-07 & 2       & 5628.7  & 10031   & 282.00  & 142267  & 0       & 1       & 1.312   & 4       & 1441.47\\\\\n",
       "\t2000-01-10 & 2       & 5628.7  & 10031   & 281.70  & 142267  & 0       & 1       & 1.304   & 4       & 1457.60\\\\\n",
       "\t2000-01-11 & 2       & 5628.7  & 10031   & 281.70  & 142267  & 0       & 1       & 1.304   & 4       & 1438.56\\\\\n",
       "\\end{tabular}\n"
      ],
      "text/markdown": [
       "\n",
       "| <!--/--> | cpi | debt | gdp | gold | labour | party | election | petrol | unemploy | AdjClose | \n",
       "|---|---|---|---|---|---|\n",
       "| 2000-01-04 | 2       | 5628.7  | 10031   | 282.05  | 142267  | 0       | 1       | 1.312   | 4       | 1399.42 | \n",
       "| 2000-01-05 | 2       | 5628.7  | 10031   | 282.10  | 142267  | 0       | 1       | 1.312   | 4       | 1402.11 | \n",
       "| 2000-01-06 | 2       | 5628.7  | 10031   | 280.35  | 142267  | 0       | 1       | 1.312   | 4       | 1403.45 | \n",
       "| 2000-01-07 | 2       | 5628.7  | 10031   | 282.00  | 142267  | 0       | 1       | 1.312   | 4       | 1441.47 | \n",
       "| 2000-01-10 | 2       | 5628.7  | 10031   | 281.70  | 142267  | 0       | 1       | 1.304   | 4       | 1457.60 | \n",
       "| 2000-01-11 | 2       | 5628.7  | 10031   | 281.70  | 142267  | 0       | 1       | 1.304   | 4       | 1438.56 | \n",
       "\n",
       "\n"
      ],
      "text/plain": [
       "           cpi debt   gdp   gold   labour party election petrol unemploy\n",
       "2000-01-04 2   5628.7 10031 282.05 142267 0     1        1.312  4       \n",
       "2000-01-05 2   5628.7 10031 282.10 142267 0     1        1.312  4       \n",
       "2000-01-06 2   5628.7 10031 280.35 142267 0     1        1.312  4       \n",
       "2000-01-07 2   5628.7 10031 282.00 142267 0     1        1.312  4       \n",
       "2000-01-10 2   5628.7 10031 281.70 142267 0     1        1.304  4       \n",
       "2000-01-11 2   5628.7 10031 281.70 142267 0     1        1.304  4       \n",
       "           AdjClose\n",
       "2000-01-04 1399.42 \n",
       "2000-01-05 1402.11 \n",
       "2000-01-06 1403.45 \n",
       "2000-01-07 1441.47 \n",
       "2000-01-10 1457.60 \n",
       "2000-01-11 1438.56 "
      ]
     },
     "metadata": {},
     "output_type": "display_data"
    }
   ],
   "source": [
    "#install.packages('chron')\n",
    "#require( chron )\n",
    "\n",
    "reg_df <- read.csv(file='regression_data.csv', header = TRUE, na.strings=c(\"NA\",\"NaN\", \"#N/A\") )\n",
    "reg_df = na.omit(reg_df)\n",
    "#head(reg_df)\n",
    "\n",
    "reg_df$Time = as.Date(reg_df$Time ,  format = \"%m/%d/%Y\")\n",
    "#sapply(reg_df, class)\n",
    "reg_zoo <- zoo(reg_df, order.by=reg_df$Time)\n",
    "\n",
    "merged = merge(reg_zoo, spy_zoo, all=FALSE)\n",
    "\n",
    "\n",
    "spy_df = as.data.frame(merged)\n",
    "\n",
    "\n",
    "\n",
    "spy_df <- subset(spy_df, select = c('cpi', 'debt', 'gdp','gold','labour','party', 'election', 'petrol', 'unemploy', 'AdjClose'))\n",
    "\n",
    "spy_df$cpi = as.numeric(as.character(spy_df$cpi))\n",
    "spy_df$debt = as.numeric(as.character(spy_df$debt))\n",
    "spy_df$gdp = as.numeric(as.character(spy_df$gdp))\n",
    "spy_df$gold = as.numeric(as.character(spy_df$gold))\n",
    "spy_df$labour = as.numeric(as.character(spy_df$labour))\n",
    "spy_df$petrol = as.numeric(as.character(spy_df$petrol))\n",
    "spy_df$unemploy = as.numeric(as.character(spy_df$unemploy))\n",
    "spy_df$AdjClose = as.numeric(as.character(spy_df$AdjClose))\n",
    "\n",
    "\n",
    "spy_train = spy_df[1:(nrow(spy_df)-test_len),]\n",
    "spy_test = spy_df[(nrow(spy_df)-test_len + 1):nrow(spy_df),]\n",
    "head(spy_train)\n",
    "\n",
    "\n",
    "# http://ricardoscr.github.io/how-to-use-ridge-and-lasso-in-r.html\n"
   ]
  },
  {
   "cell_type": "code",
   "execution_count": 4,
   "metadata": {
    "collapsed": false
   },
   "outputs": [
    {
     "data": {
      "text/plain": [
       "\n",
       "Call:\n",
       "lm(formula = AdjClose ~ ., data = spy_train)\n",
       "\n",
       "Residuals:\n",
       "    Min      1Q  Median      3Q     Max \n",
       "-286.88  -51.08   10.56   62.77  173.19 \n",
       "\n",
       "Coefficients:\n",
       "              Estimate Std. Error t value Pr(>|t|)    \n",
       "(Intercept)  9.778e+03  5.005e+02  19.537   <2e-16 ***\n",
       "cpi          5.751e+01  5.854e+00   9.823   <2e-16 ***\n",
       "debt         8.990e-02  6.315e-03  14.236   <2e-16 ***\n",
       "gdp          1.133e-02  1.186e-02   0.955     0.34    \n",
       "gold         1.004e+00  3.613e-02  27.794   <2e-16 ***\n",
       "labour      -6.376e-02  4.202e-03 -15.174   <2e-16 ***\n",
       "party1      -3.057e+02  1.417e+01 -21.575   <2e-16 ***\n",
       "election1    5.104e+01  5.611e+00   9.096   <2e-16 ***\n",
       "petrol       5.799e+01  6.411e+00   9.046   <2e-16 ***\n",
       "unemploy    -1.239e+02  3.552e+00 -34.872   <2e-16 ***\n",
       "---\n",
       "Signif. codes:  0 ‘***’ 0.001 ‘**’ 0.01 ‘*’ 0.05 ‘.’ 0.1 ‘ ’ 1\n",
       "\n",
       "Residual standard error: 86.42 on 2449 degrees of freedom\n",
       "Multiple R-squared:  0.8112,\tAdjusted R-squared:  0.8105 \n",
       "F-statistic:  1169 on 9 and 2449 DF,  p-value: < 2.2e-16\n"
      ]
     },
     "metadata": {},
     "output_type": "display_data"
    }
   ],
   "source": [
    "fit.lm = lm(AdjClose ~ .,  data = spy_train)\n",
    "summary(fit.lm)"
   ]
  },
  {
   "cell_type": "code",
   "execution_count": 5,
   "metadata": {
    "collapsed": false
   },
   "outputs": [
    {
     "data": {
      "text/html": [
       "418.960183793644"
      ],
      "text/latex": [
       "418.960183793644"
      ],
      "text/markdown": [
       "418.960183793644"
      ],
      "text/plain": [
       "[1] 418.9602"
      ]
     },
     "metadata": {},
     "output_type": "display_data"
    },
    {
     "data": {
      "text/html": [
       "525.221918612821"
      ],
      "text/latex": [
       "525.221918612821"
      ],
      "text/markdown": [
       "525.221918612821"
      ],
      "text/plain": [
       "[1] 525.2219"
      ]
     },
     "metadata": {},
     "output_type": "display_data"
    }
   ],
   "source": [
    "lm.pred <- predict(fit.lm, spy_test)\n",
    "\n",
    "# mse\n",
    "sqrt(mean(lm.pred - spy_test$AdjClose)^2)\n",
    "# rmse\n",
    "sqrt(sum( (lm.pred - spy_test$AdjClose)^2 , na.rm = TRUE ) / nrow(spy_test))"
   ]
  },
  {
   "cell_type": "code",
   "execution_count": 6,
   "metadata": {
    "collapsed": false
   },
   "outputs": [
    {
     "ename": "ERROR",
     "evalue": "Error in library(\"caret\"): there is no package called ‘caret’\n",
     "output_type": "error",
     "traceback": [
      "Error in library(\"caret\"): there is no package called ‘caret’\nTraceback:\n",
      "1. library(\"caret\")",
      "2. stop(txt, domain = NA)"
     ]
    }
   ],
   "source": [
    "#install.packages(\"caret\", dependencies = TRUE)\n",
    "library('caret')\n",
    "\n",
    "set.seed(825) # for reproducing these results\n",
    "\n",
    "ridge <- train(AdjClose ~., data = spy_train,\n",
    "               method='ridge',\n",
    "               lambda = 4,\n",
    "               preProcess=c('scale', 'center'))\n",
    "\n",
    "ridge\n",
    "\n",
    "\n",
    "ridge.pred <- predict(ridge, spy_test)\n",
    "\n",
    "# mse\n",
    "sqrt(mean(ridge.pred - spy_test$AdjClose)^2)\n",
    "# rmse\n",
    "sqrt(sum( (ridge.pred - spy_test$AdjClose)^2 , na.rm = TRUE ) / nrow(spy_test))"
   ]
  },
  {
   "cell_type": "code",
   "execution_count": null,
   "metadata": {
    "collapsed": true
   },
   "outputs": [],
   "source": [
    "## k-folds\n",
    "Use k-folds to select the best lambda. (Even though caret uses bootstrap in the example above by default).\n",
    "\n",
    "For cross-validation, we will split the data into testing and training data\n",
    "\n"
   ]
  },
  {
   "cell_type": "code",
   "execution_count": null,
   "metadata": {
    "collapsed": true
   },
   "outputs": [],
   "source": [
    "set.seed(825)\n",
    "fitControl <- trainControl(method = \"cv\",\n",
    "                            number = 10)\n",
    "# Set seq of lambda to test\n",
    "lambdaGrid <- expand.grid(lambda = 10^seq(10, -2, length=100))\n",
    "                          \n",
    "ridge_kfold <- train(Salary ~., data = spy_train,\n",
    "              method='ridge',\n",
    "              trControl = fitControl,\n",
    "#                tuneGrid = lambdaGrid\n",
    "              preProcess=c('center', 'scale')\n",
    "            )\n",
    "\n",
    "ridge_kfold\n"
   ]
  },
  {
   "cell_type": "code",
   "execution_count": null,
   "metadata": {
    "collapsed": true
   },
   "outputs": [],
   "source": [
    "# Compute coeff\n",
    "predict(ridge$finalModel, type='coef', mode='norm')$coefficients"
   ]
  },
  {
   "cell_type": "code",
   "execution_count": null,
   "metadata": {
    "collapsed": true
   },
   "outputs": [],
   "source": [
    "ridge_kfold.pred <- predict(ridge, spy_test)\n",
    "\n",
    "# mse\n",
    "sqrt(mean(ridge_kfold.pred - spy_test$AdjClose)^2)\n",
    "# rmse\n",
    "sqrt(sum( (ridge_kfold.pred - spy_test$AdjClose)^2 , na.rm = TRUE ) / nrow(spy_test))"
   ]
  },
  {
   "cell_type": "markdown",
   "metadata": {},
   "source": [
    "## The lasso"
   ]
  },
  {
   "cell_type": "code",
   "execution_count": null,
   "metadata": {
    "collapsed": true
   },
   "outputs": [],
   "source": [
    "lasso <- train(AdjClose ~., data = spy_train,\n",
    "               method='lasso',\n",
    "               preProc=c('scale','center'),\n",
    "              \n",
    "               trControl=fitControl)\n",
    "lasso"
   ]
  },
  {
   "cell_type": "code",
   "execution_count": null,
   "metadata": {
    "collapsed": true
   },
   "outputs": [],
   "source": [
    "# Get coef\n",
    "predict.enet(lasso$finalModel, type='coefficients', s=lasso$bestTune$fraction, mode='fraction')"
   ]
  },
  {
   "cell_type": "code",
   "execution_count": null,
   "metadata": {
    "collapsed": true
   },
   "outputs": [],
   "source": [
    "lasso.pred <- predict(lasso, test)\n",
    "\n",
    "\n",
    "# mse\n",
    "sqrt(mean(lasso.pred - spy_test$AdjClose)^2)\n",
    "# rmse\n",
    "sqrt(sum( (lasso.pred - spy_test$AdjClose)^2 , na.rm = TRUE ) / nrow(spy_test))"
   ]
  },
  {
   "cell_type": "code",
   "execution_count": null,
   "metadata": {
    "collapsed": false
   },
   "outputs": [],
   "source": [
    "library(leaps)\n",
    "\n",
    "regfit.bwd <- regsubsets(AdjClose ~ ., data=spy_train,\n",
    "                      method =\"backward\")\n",
    "summary(regfit.bwd)"
   ]
  },
  {
   "cell_type": "code",
   "execution_count": null,
   "metadata": {
    "collapsed": false
   },
   "outputs": [],
   "source": [
    "regfit.fwd <- regsubsets(AdjClose ~ ., data=spy_train, \n",
    "                      method = \"forward\")\n",
    "summary(regfit.fwd)"
   ]
  },
  {
   "cell_type": "code",
   "execution_count": null,
   "metadata": {
    "collapsed": false
   },
   "outputs": [],
   "source": [
    "\n",
    "\n",
    "regfit <- regsubsets(AdjClose ~ ., data=spy_train)\n",
    "summary(regfit)"
   ]
  },
  {
   "cell_type": "code",
   "execution_count": null,
   "metadata": {
    "collapsed": false
   },
   "outputs": [],
   "source": [
    "par(mfrow=c(2,2))\n",
    "plot(regfit, scale = 'r2')\n",
    "plot(regfit, scale = 'adjr2')\n",
    "plot(regfit, scale = 'Cp')\n",
    "plot(regfit, scale = 'bic')\n"
   ]
  },
  {
   "cell_type": "markdown",
   "metadata": {},
   "source": [
    "Use the best model from leap"
   ]
  },
  {
   "cell_type": "code",
   "execution_count": null,
   "metadata": {
    "collapsed": true
   },
   "outputs": [],
   "source": [
    "leaplm = lm(AdjClose ~ .,  data = spy_train)\n",
    "summary(leaplm)\n",
    "\n"
   ]
  },
  {
   "cell_type": "code",
   "execution_count": null,
   "metadata": {
    "collapsed": true
   },
   "outputs": [],
   "source": [
    "leaplm.pred <- predict(leaplm, spy_test)\n",
    "\n",
    "# mse\n",
    "sqrt(mean(leaplm.pred - spy_test$AdjClose)^2)\n",
    "# rmse\n",
    "sqrt(sum( (leaplm.pred - spy_test$AdjClose)^2 , na.rm = TRUE ) / nrow(spy_test))"
   ]
  }
 ],
 "metadata": {
  "kernelspec": {
   "display_name": "R",
   "language": "R",
   "name": "ir"
  },
  "language_info": {
   "codemirror_mode": "r",
   "file_extension": ".r",
   "mimetype": "text/x-r-source",
   "name": "R",
   "pygments_lexer": "r",
   "version": "3.3.2"
  }
 },
 "nbformat": 4,
 "nbformat_minor": 2
}
