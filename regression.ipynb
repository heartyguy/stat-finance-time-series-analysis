{
 "cells": [
  {
   "cell_type": "code",
   "execution_count": 1,
   "metadata": {
    "collapsed": false
   },
   "outputs": [
    {
     "name": "stderr",
     "output_type": "stream",
     "text": [
      "\n",
      "Attaching package: ‘CombMSC’\n",
      "\n",
      "The following object is masked from ‘package:stats’:\n",
      "\n",
      "    BIC\n",
      "\n",
      "\n",
      "Attaching package: ‘zoo’\n",
      "\n",
      "The following objects are masked from ‘package:base’:\n",
      "\n",
      "    as.Date, as.Date.numeric\n",
      "\n"
     ]
    },
    {
     "name": "stdout",
     "output_type": "stream",
     "text": [
      "time series starts 2000-01-03\n",
      "time series ends   2011-12-30\n"
     ]
    }
   ],
   "source": [
    "#install.packages('tseries')\n",
    "#install.packages('CombMSC')\n",
    "library(CombMSC)\n",
    "library(tseries)\n",
    "library(zoo)\n",
    "\n",
    "\n",
    "spy_zoo = get.hist.quote(instrument = \"SPY\", \"2000-01-01\", \"2011-12-31\",quote = c(\"AdjClose\"),\n",
    "provider = c(\"yahoo\"), method = NULL, compression = \"d\",\n",
    "retclass = c(\"zoo\"), quiet = FALSE, drop = FALSE)\n",
    "\n",
    "\n",
    "#spy$train =ts(spy$train, frequency=7)\n",
    "\n",
    "test_len = 504\n",
    "if(FALSE){\n",
    "spy = coredata(spy_zoo)\n",
    "spy\n",
    "spy$train = spy[1:(length(spy)-test_len)]\n",
    "spy$test = spy[(length(spy)-test_len + 1):length(spy)]\n",
    "length(spy$train)\n",
    "length(spy$test)\n",
    "\n",
    "plot(spy$train,ylab='price', xlab='day in train')\n",
    "plot(log(spy$train), ylab=\"Log(price)\", xlab=\"day in train\")\n",
    "\n",
    "plot(spy$test,ylab='price', xlab='day in test')\n",
    "plot(log(spy$test), ylab=\"Log(price)\", xlab=\"day in test\")\n",
    "}\n",
    "\n",
    "\n",
    "\n",
    "\n",
    "\n"
   ]
  },
  {
   "cell_type": "code",
   "execution_count": 2,
   "metadata": {
    "collapsed": false
   },
   "outputs": [],
   "source": [
    "#hist(spy$train)\n",
    "#hist(log(spy$train))"
   ]
  },
  {
   "cell_type": "code",
   "execution_count": 3,
   "metadata": {
    "collapsed": false,
    "scrolled": true
   },
   "outputs": [
    {
     "data": {
      "text/html": [
       "<table>\n",
       "<thead><tr><th></th><th scope=col>cpi</th><th scope=col>debt</th><th scope=col>gdp</th><th scope=col>gold</th><th scope=col>labour</th><th scope=col>party</th><th scope=col>election</th><th scope=col>petrol</th><th scope=col>unemploy</th><th scope=col>AdjClose</th></tr></thead>\n",
       "<tbody>\n",
       "\t<tr><th scope=row>2000-01-04</th><td>2        </td><td>5628.7   </td><td>10031    </td><td>282.05   </td><td>142267   </td><td>0        </td><td>1        </td><td>1.312    </td><td>4        </td><td>101.24644</td></tr>\n",
       "\t<tr><th scope=row>2000-01-05</th><td>2        </td><td>5628.7   </td><td>10031    </td><td>282.10   </td><td>142267   </td><td>0        </td><td>1        </td><td>1.312    </td><td>4        </td><td>101.42756</td></tr>\n",
       "\t<tr><th scope=row>2000-01-06</th><td>2        </td><td>5628.7   </td><td>10031    </td><td>280.35   </td><td>142267   </td><td>0        </td><td>1        </td><td>1.312    </td><td>4        </td><td> 99.79748</td></tr>\n",
       "\t<tr><th scope=row>2000-01-07</th><td>2        </td><td>5628.7   </td><td>10031    </td><td>282.00   </td><td>142267   </td><td>0        </td><td>1        </td><td>1.312    </td><td>4        </td><td>105.59334</td></tr>\n",
       "\t<tr><th scope=row>2000-01-10</th><td>2        </td><td>5628.7   </td><td>10031    </td><td>281.70   </td><td>142267   </td><td>0        </td><td>1        </td><td>1.304    </td><td>4        </td><td>105.95558</td></tr>\n",
       "\t<tr><th scope=row>2000-01-11</th><td>2        </td><td>5628.7   </td><td>10031    </td><td>281.70   </td><td>142267   </td><td>0        </td><td>1        </td><td>1.304    </td><td>4        </td><td>104.68774</td></tr>\n",
       "</tbody>\n",
       "</table>\n"
      ],
      "text/latex": [
       "\\begin{tabular}{r|llllllllll}\n",
       "  & cpi & debt & gdp & gold & labour & party & election & petrol & unemploy & AdjClose\\\\\n",
       "\\hline\n",
       "\t2000-01-04 & 2         & 5628.7    & 10031     & 282.05    & 142267    & 0         & 1         & 1.312     & 4         & 101.24644\\\\\n",
       "\t2000-01-05 & 2         & 5628.7    & 10031     & 282.10    & 142267    & 0         & 1         & 1.312     & 4         & 101.42756\\\\\n",
       "\t2000-01-06 & 2         & 5628.7    & 10031     & 280.35    & 142267    & 0         & 1         & 1.312     & 4         &  99.79748\\\\\n",
       "\t2000-01-07 & 2         & 5628.7    & 10031     & 282.00    & 142267    & 0         & 1         & 1.312     & 4         & 105.59334\\\\\n",
       "\t2000-01-10 & 2         & 5628.7    & 10031     & 281.70    & 142267    & 0         & 1         & 1.304     & 4         & 105.95558\\\\\n",
       "\t2000-01-11 & 2         & 5628.7    & 10031     & 281.70    & 142267    & 0         & 1         & 1.304     & 4         & 104.68774\\\\\n",
       "\\end{tabular}\n"
      ],
      "text/markdown": [
       "\n",
       "| <!--/--> | cpi | debt | gdp | gold | labour | party | election | petrol | unemploy | AdjClose | \n",
       "|---|---|---|---|---|---|\n",
       "| 2000-01-04 | 2         | 5628.7    | 10031     | 282.05    | 142267    | 0         | 1         | 1.312     | 4         | 101.24644 | \n",
       "| 2000-01-05 | 2         | 5628.7    | 10031     | 282.10    | 142267    | 0         | 1         | 1.312     | 4         | 101.42756 | \n",
       "| 2000-01-06 | 2         | 5628.7    | 10031     | 280.35    | 142267    | 0         | 1         | 1.312     | 4         |  99.79748 | \n",
       "| 2000-01-07 | 2         | 5628.7    | 10031     | 282.00    | 142267    | 0         | 1         | 1.312     | 4         | 105.59334 | \n",
       "| 2000-01-10 | 2         | 5628.7    | 10031     | 281.70    | 142267    | 0         | 1         | 1.304     | 4         | 105.95558 | \n",
       "| 2000-01-11 | 2         | 5628.7    | 10031     | 281.70    | 142267    | 0         | 1         | 1.304     | 4         | 104.68774 | \n",
       "\n",
       "\n"
      ],
      "text/plain": [
       "           cpi debt   gdp   gold   labour party election petrol unemploy\n",
       "2000-01-04 2   5628.7 10031 282.05 142267 0     1        1.312  4       \n",
       "2000-01-05 2   5628.7 10031 282.10 142267 0     1        1.312  4       \n",
       "2000-01-06 2   5628.7 10031 280.35 142267 0     1        1.312  4       \n",
       "2000-01-07 2   5628.7 10031 282.00 142267 0     1        1.312  4       \n",
       "2000-01-10 2   5628.7 10031 281.70 142267 0     1        1.304  4       \n",
       "2000-01-11 2   5628.7 10031 281.70 142267 0     1        1.304  4       \n",
       "           AdjClose \n",
       "2000-01-04 101.24644\n",
       "2000-01-05 101.42756\n",
       "2000-01-06  99.79748\n",
       "2000-01-07 105.59334\n",
       "2000-01-10 105.95558\n",
       "2000-01-11 104.68774"
      ]
     },
     "metadata": {},
     "output_type": "display_data"
    }
   ],
   "source": [
    "#install.packages('chron')\n",
    "#require( chron )\n",
    "\n",
    "reg_df <- read.csv(file='regression_data.csv', header = TRUE, na.strings=c(\"NA\",\"NaN\", \"#N/A\") )\n",
    "reg_df = na.omit(reg_df)\n",
    "#head(reg_df)\n",
    "\n",
    "reg_df$Time = as.Date(reg_df$Time ,  format = \"%m/%d/%Y\")\n",
    "#sapply(reg_df, class)\n",
    "reg_zoo <- zoo(reg_df, order.by=reg_df$Time)\n",
    "\n",
    "merged = merge(reg_zoo, spy_zoo, all=FALSE)\n",
    "\n",
    "\n",
    "spy_df = as.data.frame(merged)\n",
    "\n",
    "\n",
    "\n",
    "spy_df <- subset(spy_df, select = c('cpi', 'debt', 'gdp','gold','labour','party', 'election', 'petrol', 'unemploy', 'AdjClose'))\n",
    "\n",
    "spy_df$cpi = as.numeric(as.character(spy_df$cpi))\n",
    "spy_df$debt = as.numeric(as.character(spy_df$debt))\n",
    "spy_df$gdp = as.numeric(as.character(spy_df$gdp))\n",
    "spy_df$gold = as.numeric(as.character(spy_df$gold))\n",
    "spy_df$labour = as.numeric(as.character(spy_df$labour))\n",
    "spy_df$petrol = as.numeric(as.character(spy_df$petrol))\n",
    "spy_df$unemploy = as.numeric(as.character(spy_df$unemploy))\n",
    "spy_df$AdjClose = as.numeric(as.character(spy_df$AdjClose))\n",
    "\n",
    "\n",
    "spy_train = spy_df[1:(nrow(spy_df)-test_len),]\n",
    "spy_test = spy_df[(nrow(spy_df)-test_len + 1):nrow(spy_df),]\n",
    "head(spy_train)\n",
    "\n",
    "\n",
    "# http://ricardoscr.github.io/how-to-use-ridge-and-lasso-in-r.html\n"
   ]
  },
  {
   "cell_type": "code",
   "execution_count": 4,
   "metadata": {
    "collapsed": false
   },
   "outputs": [
    {
     "data": {
      "text/plain": [
       "\n",
       "Call:\n",
       "lm(formula = AdjClose ~ ., data = spy_train)\n",
       "\n",
       "Residuals:\n",
       "     Min       1Q   Median       3Q      Max \n",
       "-23.5045  -3.7897   0.8021   4.7262  14.0542 \n",
       "\n",
       "Coefficients:\n",
       "              Estimate Std. Error t value Pr(>|t|)    \n",
       "(Intercept)  6.994e+02  3.903e+01  17.920  < 2e-16 ***\n",
       "cpi          4.301e+00  4.565e-01   9.422  < 2e-16 ***\n",
       "debt         5.933e-03  4.924e-04  12.049  < 2e-16 ***\n",
       "gdp          3.139e-03  9.248e-04   3.394    7e-04 ***\n",
       "gold         8.306e-02  2.817e-03  29.481  < 2e-16 ***\n",
       "labour      -4.729e-03  3.277e-04 -14.433  < 2e-16 ***\n",
       "party1      -2.389e+01  1.105e+00 -21.623  < 2e-16 ***\n",
       "election1    3.565e+00  4.376e-01   8.148 5.82e-16 ***\n",
       "petrol       4.854e+00  4.999e-01   9.710  < 2e-16 ***\n",
       "unemploy    -8.801e+00  2.769e-01 -31.780  < 2e-16 ***\n",
       "---\n",
       "Signif. codes:  0 ‘***’ 0.001 ‘**’ 0.01 ‘*’ 0.05 ‘.’ 0.1 ‘ ’ 1\n",
       "\n",
       "Residual standard error: 6.739 on 2449 degrees of freedom\n",
       "Multiple R-squared:  0.8247,\tAdjusted R-squared:  0.824 \n",
       "F-statistic:  1280 on 9 and 2449 DF,  p-value: < 2.2e-16\n"
      ]
     },
     "metadata": {},
     "output_type": "display_data"
    }
   ],
   "source": [
    "fit.lm = lm(AdjClose ~ .,  data = spy_train)\n",
    "summary(fit.lm)"
   ]
  },
  {
   "cell_type": "code",
   "execution_count": 5,
   "metadata": {
    "collapsed": false
   },
   "outputs": [
    {
     "data": {
      "text/html": [
       "29.3986487040225"
      ],
      "text/latex": [
       "29.3986487040225"
      ],
      "text/markdown": [
       "29.3986487040225"
      ],
      "text/plain": [
       "[1] 29.39865"
      ]
     },
     "metadata": {},
     "output_type": "display_data"
    },
    {
     "data": {
      "text/html": [
       "38.0132330667634"
      ],
      "text/latex": [
       "38.0132330667634"
      ],
      "text/markdown": [
       "38.0132330667634"
      ],
      "text/plain": [
       "[1] 38.01323"
      ]
     },
     "metadata": {},
     "output_type": "display_data"
    }
   ],
   "source": [
    "lm.pred <- predict(fit.lm, spy_test)\n",
    "\n",
    "# mse\n",
    "sqrt(mean(lm.pred - spy_test$AdjClose)^2)\n",
    "# rmse\n",
    "sqrt(sum( (lm.pred - spy_test$AdjClose)^2 , na.rm = TRUE ) / nrow(spy_test))"
   ]
  },
  {
   "cell_type": "code",
   "execution_count": 15,
   "metadata": {
    "collapsed": false
   },
   "outputs": [
    {
     "name": "stderr",
     "output_type": "stream",
     "text": [
      "also installing the dependencies ‘bitops’, ‘numDeriv’, ‘gdata’, ‘caTools’, ‘TH.data’, ‘nloptr’, ‘profileModel’, ‘plotrix’, ‘KernSmooth’, ‘lava’, ‘gplots’, ‘multcomp’, ‘pbkrtest’, ‘lme4’, ‘brglm’, ‘gtools’, ‘class’, ‘plotmo’, ‘TeachingDemos’, ‘rpart’, ‘survival’, ‘prodlim’, ‘combinat’, ‘ROCR’, ‘mvtnorm’, ‘modeltools’, ‘strucchange’, ‘coin’, ‘sandwich’, ‘ISwR’, ‘corpcor’, ‘cluster’, ‘praise’, ‘car’, ‘BradleyTerry2’, ‘e1071’, ‘earth’, ‘fastICA’, ‘gam’, ‘ipred’, ‘kernlab’, ‘klaR’, ‘ellipse’, ‘mda’, ‘mlbench’, ‘MLmetrics’, ‘party’, ‘pls’, ‘pROC’, ‘proxy’, ‘randomForest’, ‘RANN’, ‘spls’, ‘subselect’, ‘pamr’, ‘superpc’, ‘Cubist’, ‘testthat’\n",
      "\n",
      "Warning message in install.packages(\"caret\", dependencies = TRUE):\n",
      "“installation of package ‘nloptr’ had non-zero exit status”Warning message in install.packages(\"caret\", dependencies = TRUE):\n",
      "“installation of package ‘lme4’ had non-zero exit status”Warning message in install.packages(\"caret\", dependencies = TRUE):\n",
      "“installation of package ‘pbkrtest’ had non-zero exit status”Warning message in install.packages(\"caret\", dependencies = TRUE):\n",
      "“installation of package ‘BradleyTerry2’ had non-zero exit status”Warning message in install.packages(\"caret\", dependencies = TRUE):\n",
      "“installation of package ‘car’ had non-zero exit status”Warning message in install.packages(\"caret\", dependencies = TRUE):\n",
      "“installation of package ‘caret’ had non-zero exit status”Updating HTML index of packages in '.Library'\n",
      "Making 'packages.html' ... done\n"
     ]
    },
    {
     "ename": "ERROR",
     "evalue": "Error in library(\"caret\"): there is no package called ‘caret’\n",
     "output_type": "error",
     "traceback": [
      "Error in library(\"caret\"): there is no package called ‘caret’\nTraceback:\n",
      "1. library(\"caret\")",
      "2. stop(txt, domain = NA)"
     ]
    }
   ],
   "source": [
    "install.packages(\"caret\", dependencies = TRUE)\n",
    "library('caret')\n",
    "\n",
    "set.seed(825) # for reproducing these results\n",
    "\n",
    "ridge <- train(AdjClose ~., data = spy_train,\n",
    "               method='ridge',\n",
    "               lambda = 4,\n",
    "               preProcess=c('scale', 'center'))\n",
    "\n",
    "ridge\n",
    "\n",
    "\n",
    "ridge.pred <- predict(ridge, spy_test)\n",
    "\n",
    "# mse\n",
    "sqrt(mean(ridge.pred - spy_test$AdjClose)^2)\n",
    "# rmse\n",
    "sqrt(sum( (ridge.pred - spy_test$AdjClose)^2 , na.rm = TRUE ) / nrow(spy_test))"
   ]
  },
  {
   "cell_type": "code",
   "execution_count": null,
   "metadata": {
    "collapsed": true
   },
   "outputs": [],
   "source": [
    "## k-folds\n",
    "Use k-folds to select the best lambda. (Even though caret uses bootstrap in the example above by default).\n",
    "\n",
    "For cross-validation, we will split the data into testing and training data\n",
    "\n"
   ]
  },
  {
   "cell_type": "code",
   "execution_count": null,
   "metadata": {
    "collapsed": true
   },
   "outputs": [],
   "source": [
    "set.seed(825)\n",
    "fitControl <- trainControl(method = \"cv\",\n",
    "                            number = 10)\n",
    "# Set seq of lambda to test\n",
    "lambdaGrid <- expand.grid(lambda = 10^seq(10, -2, length=100))\n",
    "                          \n",
    "ridge_kfold <- train(Salary ~., data = spy_train,\n",
    "              method='ridge',\n",
    "              trControl = fitControl,\n",
    "#                tuneGrid = lambdaGrid\n",
    "              preProcess=c('center', 'scale')\n",
    "            )\n",
    "\n",
    "ridge_kfold\n"
   ]
  },
  {
   "cell_type": "code",
   "execution_count": null,
   "metadata": {
    "collapsed": true
   },
   "outputs": [],
   "source": [
    "# Compute coeff\n",
    "predict(ridge$finalModel, type='coef', mode='norm')$coefficients"
   ]
  },
  {
   "cell_type": "code",
   "execution_count": null,
   "metadata": {
    "collapsed": true
   },
   "outputs": [],
   "source": [
    "ridge_kfold.pred <- predict(ridge, spy_test)\n",
    "\n",
    "# mse\n",
    "sqrt(mean(ridge_kfold.pred - spy_test$AdjClose)^2)\n",
    "# rmse\n",
    "sqrt(sum( (ridge_kfold.pred - spy_test$AdjClose)^2 , na.rm = TRUE ) / nrow(spy_test))"
   ]
  },
  {
   "cell_type": "markdown",
   "metadata": {},
   "source": [
    "## The lasso"
   ]
  },
  {
   "cell_type": "code",
   "execution_count": null,
   "metadata": {
    "collapsed": true
   },
   "outputs": [],
   "source": [
    "lasso <- train(AdjClose ~., data = spy_train,\n",
    "               method='lasso',\n",
    "               preProc=c('scale','center'),\n",
    "              \n",
    "               trControl=fitControl)\n",
    "lasso"
   ]
  },
  {
   "cell_type": "code",
   "execution_count": null,
   "metadata": {
    "collapsed": true
   },
   "outputs": [],
   "source": [
    "# Get coef\n",
    "predict.enet(lasso$finalModel, type='coefficients', s=lasso$bestTune$fraction, mode='fraction')"
   ]
  },
  {
   "cell_type": "code",
   "execution_count": null,
   "metadata": {
    "collapsed": true
   },
   "outputs": [],
   "source": [
    "lasso.pred <- predict(lasso, test)\n",
    "\n",
    "\n",
    "# mse\n",
    "sqrt(mean(lasso.pred - spy_test$AdjClose)^2)\n",
    "# rmse\n",
    "sqrt(sum( (lasso.pred - spy_test$AdjClose)^2 , na.rm = TRUE ) / nrow(spy_test))"
   ]
  },
  {
   "cell_type": "code",
   "execution_count": null,
   "metadata": {
    "collapsed": false
   },
   "outputs": [],
   "source": [
    "library(leaps)\n",
    "\n",
    "regfit.bwd <- regsubsets(AdjClose ~ ., data=spy_train,\n",
    "                      method =\"backward\")\n",
    "summary(regfit.bwd)"
   ]
  },
  {
   "cell_type": "code",
   "execution_count": null,
   "metadata": {
    "collapsed": false
   },
   "outputs": [],
   "source": [
    "regfit.fwd <- regsubsets(AdjClose ~ ., data=spy_train, \n",
    "                      method = \"forward\")\n",
    "summary(regfit.fwd)"
   ]
  },
  {
   "cell_type": "code",
   "execution_count": null,
   "metadata": {
    "collapsed": false
   },
   "outputs": [],
   "source": [
    "\n",
    "\n",
    "regfit <- regsubsets(AdjClose ~ ., data=spy_train)\n",
    "summary(regfit)"
   ]
  },
  {
   "cell_type": "code",
   "execution_count": null,
   "metadata": {
    "collapsed": false
   },
   "outputs": [],
   "source": [
    "par(mfrow=c(2,2))\n",
    "plot(regfit, scale = 'r2')\n",
    "plot(regfit, scale = 'adjr2')\n",
    "plot(regfit, scale = 'Cp')\n",
    "plot(regfit, scale = 'bic')\n"
   ]
  },
  {
   "cell_type": "markdown",
   "metadata": {},
   "source": [
    "Use the best model from leap"
   ]
  },
  {
   "cell_type": "code",
   "execution_count": null,
   "metadata": {
    "collapsed": true
   },
   "outputs": [],
   "source": [
    "leaplm = lm(AdjClose ~ .,  data = spy_train)\n",
    "summary(leaplm)\n",
    "\n"
   ]
  },
  {
   "cell_type": "code",
   "execution_count": null,
   "metadata": {
    "collapsed": true
   },
   "outputs": [],
   "source": [
    "leaplm.pred <- predict(leaplm, spy_test)\n",
    "\n",
    "# mse\n",
    "sqrt(mean(leaplm.pred - spy_test$AdjClose)^2)\n",
    "# rmse\n",
    "sqrt(sum( (leaplm.pred - spy_test$AdjClose)^2 , na.rm = TRUE ) / nrow(spy_test))"
   ]
  }
 ],
 "metadata": {
  "kernelspec": {
   "display_name": "R",
   "language": "R",
   "name": "ir"
  },
  "language_info": {
   "codemirror_mode": "r",
   "file_extension": ".r",
   "mimetype": "text/x-r-source",
   "name": "R",
   "pygments_lexer": "r",
   "version": "3.3.2"
  }
 },
 "nbformat": 4,
 "nbformat_minor": 2
}
